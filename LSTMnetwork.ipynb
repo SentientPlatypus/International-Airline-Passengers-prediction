{
 "cells": [
  {
   "cell_type": "markdown",
   "metadata": {},
   "source": [
    "# Predicting the number of international airline passengers\n",
    "We will be doing this with a neural network. This is mainly for testing LSTM to see if its suitable for Foresight."
   ]
  },
  {
   "cell_type": "code",
   "execution_count": 154,
   "metadata": {},
   "outputs": [],
   "source": [
    "import pandas as pd\n",
    "import matplotlib.pyplot as plt\n",
    "import tensorflow as tf\n",
    "from keras import Sequential\n",
    "from keras.layers import Dense\n",
    "from keras.layers import LSTM\n",
    "from sklearn.preprocessing import MinMaxScaler\n",
    "from sklearn.metrics import mean_squared_error\n",
    "import numpy as np"
   ]
  },
  {
   "cell_type": "markdown",
   "metadata": {},
   "source": [
    "Import the necessary modules\n"
   ]
  },
  {
   "cell_type": "code",
   "execution_count": 155,
   "metadata": {},
   "outputs": [
    {
     "data": {
      "image/png": "[encoded data removed]",
      "text/plain": [
       "<Figure size 432x288 with 1 Axes>"
      ]
     },
     "metadata": {
      "needs_background": "light"
     },
     "output_type": "display_data"
    }
   ],
   "source": [
    "dataframe:pd.DataFrame = pd.read_csv('airline-passengers.csv', usecols=[1], engine='python')\n",
    "plt.plot(dataframe)\n",
    "plt.show()"
   ]
  },
  {
   "cell_type": "markdown",
   "metadata": {},
   "source": [
    "Here we read the csv file containing the data as a dataframe, and we plot it.\n"
   ]
  },
  {
   "cell_type": "markdown",
   "metadata": {},
   "source": [
    "We should first set a random seed"
   ]
  },
  {
   "cell_type": "code",
   "execution_count": 156,
   "metadata": {},
   "outputs": [],
   "source": [
    "tf.random.set_seed(7)"
   ]
  },
  {
   "cell_type": "markdown",
   "metadata": {},
   "source": [
    "Lets now change the *dataframe* from earlier to numpy integer values. Apparently this is better when working with neural networks."
   ]
  },
  {
   "cell_type": "code",
   "execution_count": 157,
   "metadata": {},
   "outputs": [],
   "source": [
    "dataset:np.ndarray = dataframe.values\n",
    "dataset = dataset.astype('float32')"
   ]
  },
  {
   "cell_type": "markdown",
   "metadata": {},
   "source": [
    "We want to now scale these values down between 0 and 1 with a sigmoid or logistic function.\n"
   ]
  },
  {
   "cell_type": "code",
   "execution_count": 158,
   "metadata": {},
   "outputs": [],
   "source": [
    "scaler = MinMaxScaler(feature_range=(0,1))\n",
    "dataset = scaler.fit_transform(dataset)"
   ]
  },
  {
   "cell_type": "markdown",
   "metadata": {},
   "source": [
    "The airline problem is time based, meaning that the sequence of values is significant. Therefore, lets use the first 2 thirds of the data to train the model, and lets predict the last third, and compare it with the actual values.\n"
   ]
  },
  {
   "cell_type": "code",
   "execution_count": 159,
   "metadata": {},
   "outputs": [
    {
     "name": "stdout",
     "output_type": "stream",
     "text": [
      "Training size: 96\n",
      "Testing size:48\n"
     ]
    }
   ],
   "source": [
    "trainingSize = int(len(dataset) * .667)\n",
    "testingSize = len(dataset) - trainingSize\n",
    "trainingValues = dataset[:trainingSize]\n",
    "testingValues = dataset[trainingSize:]\n",
    "print(f\"Training size: {len(trainingValues)}\\nTesting size:{len(testingValues)}\")"
   ]
  },
  {
   "cell_type": "markdown",
   "metadata": {},
   "source": [
    "Now we can define a function to create a new dataset, as described above.\n",
    "\n",
    "The function takes two arguments: the dataset, which is a NumPy array that we want to convert into a dataset, and the look_back, which is the number of previous time steps to use as input variables to predict the next time period — in this case defaulted to 1.\n",
    "\n",
    "This default will create a dataset where X is the number of passengers at a given time (t) and Y is the number of passengers at the next time (t + 1)."
   ]
  },
  {
   "cell_type": "code",
   "execution_count": 160,
   "metadata": {},
   "outputs": [],
   "source": [
    "# convert an array of values into a dataset matrix\n",
    "def create_dataset(dataset, look_back=1):\n",
    "\tdataX, dataY = [], []\n",
    "\tfor i in range(len(dataset)-look_back-1):\n",
    "\t\ta = dataset[i:(i+look_back), 0]\n",
    "\t\tdataX.append(a)\n",
    "\t\tdataY.append(dataset[i + look_back, 0])\n",
    "\treturn np.array(dataX), np.array(dataY)"
   ]
  },
  {
   "cell_type": "markdown",
   "metadata": {},
   "source": [
    "Lets use this function\n"
   ]
  },
  {
   "cell_type": "code",
   "execution_count": 161,
   "metadata": {},
   "outputs": [
    {
     "name": "stdout",
     "output_type": "stream",
     "text": [
      "[0.02702703] 0.027027026\n"
     ]
    }
   ],
   "source": [
    "# reshape into X=t and Y=t+1\n",
    "look_back = 1\n",
    "trainX, trainY = create_dataset(trainingValues, look_back)\n",
    "testX, testY = create_dataset(testingValues, look_back)\n",
    "print(trainX[1], trainY[0])"
   ]
  },
  {
   "cell_type": "markdown",
   "metadata": {},
   "source": [
    "The LSTM network expects the input data (X) to be provided with a specific array structure in the form of: [samples, time steps, features].\n",
    "\n",
    "Currently, our data is in the form: [samples, features] and we are framing the problem as one time step for each sample. We can transform the prepared train and test input data into the expected structure using numpy.reshape() as follows:"
   ]
  },
  {
   "cell_type": "code",
   "execution_count": 162,
   "metadata": {},
   "outputs": [],
   "source": [
    "\n",
    "# reshape input to be [samples, time steps, features]\n",
    "trainX = np.reshape(trainX, (trainX.shape[0], 1, trainX.shape[1]))\n",
    "testX = np.reshape(testX, (testX.shape[0], 1, testX.shape[1]))"
   ]
  },
  {
   "cell_type": "markdown",
   "metadata": {},
   "source": [
    "We are now ready to design and fit our LSTM network for this problem.\n",
    "\n",
    "The network has a visible layer with 1 input, a hidden layer with 4 LSTM blocks or neurons, and an output layer that makes a single value prediction. The default sigmoid activation function is used for the LSTM blocks. The network is trained for 100 epochs and a batch size of 1 is used."
   ]
  },
  {
   "cell_type": "code",
   "execution_count": 163,
   "metadata": {},
   "outputs": [
    {
     "name": "stdout",
     "output_type": "stream",
     "text": [
      "Epoch 1/100\n",
      "94/94 - 2s - loss: 0.0431 - 2s/epoch - 22ms/step\n",
      "Epoch 2/100\n",
      "94/94 - 0s - loss: 0.0229 - 115ms/epoch - 1ms/step\n",
      "Epoch 3/100\n",
      "94/94 - 0s - loss: 0.0163 - 119ms/epoch - 1ms/step\n",
      "Epoch 4/100\n",
      "94/94 - 0s - loss: 0.0148 - 118ms/epoch - 1ms/step\n",
      "Epoch 5/100\n",
      "94/94 - 0s - loss: 0.0140 - 117ms/epoch - 1ms/step\n",
      "Epoch 6/100\n",
      "94/94 - 0s - loss: 0.0130 - 109ms/epoch - 1ms/step\n",
      "Epoch 7/100\n",
      "94/94 - 0s - loss: 0.0121 - 143ms/epoch - 2ms/step\n",
      "Epoch 8/100\n",
      "94/94 - 0s - loss: 0.0112 - 119ms/epoch - 1ms/step\n",
      "Epoch 9/100\n",
      "94/94 - 0s - loss: 0.0104 - 133ms/epoch - 1ms/step\n",
      "Epoch 10/100\n",
      "94/94 - 0s - loss: 0.0094 - 130ms/epoch - 1ms/step\n",
      "Epoch 11/100\n",
      "94/94 - 0s - loss: 0.0084 - 114ms/epoch - 1ms/step\n",
      "Epoch 12/100\n",
      "94/94 - 0s - loss: 0.0074 - 123ms/epoch - 1ms/step\n",
      "Epoch 13/100\n",
      "94/94 - 0s - loss: 0.0066 - 149ms/epoch - 2ms/step\n",
      "Epoch 14/100\n",
      "94/94 - 0s - loss: 0.0057 - 123ms/epoch - 1ms/step\n",
      "Epoch 15/100\n",
      "94/94 - 0s - loss: 0.0050 - 117ms/epoch - 1ms/step\n",
      "Epoch 16/100\n",
      "94/94 - 0s - loss: 0.0043 - 119ms/epoch - 1ms/step\n",
      "Epoch 17/100\n",
      "94/94 - 0s - loss: 0.0037 - 116ms/epoch - 1ms/step\n",
      "Epoch 18/100\n",
      "94/94 - 0s - loss: 0.0032 - 120ms/epoch - 1ms/step\n",
      "Epoch 19/100\n",
      "94/94 - 0s - loss: 0.0029 - 132ms/epoch - 1ms/step\n",
      "Epoch 20/100\n",
      "94/94 - 0s - loss: 0.0026 - 118ms/epoch - 1ms/step\n",
      "Epoch 21/100\n",
      "94/94 - 0s - loss: 0.0024 - 133ms/epoch - 1ms/step\n",
      "Epoch 22/100\n",
      "94/94 - 0s - loss: 0.0022 - 117ms/epoch - 1ms/step\n",
      "Epoch 23/100\n",
      "94/94 - 0s - loss: 0.0021 - 152ms/epoch - 2ms/step\n",
      "Epoch 24/100\n",
      "94/94 - 0s - loss: 0.0020 - 170ms/epoch - 2ms/step\n",
      "Epoch 25/100\n",
      "94/94 - 0s - loss: 0.0021 - 202ms/epoch - 2ms/step\n",
      "Epoch 26/100\n",
      "94/94 - 0s - loss: 0.0020 - 139ms/epoch - 1ms/step\n",
      "Epoch 27/100\n",
      "94/94 - 0s - loss: 0.0020 - 144ms/epoch - 2ms/step\n",
      "Epoch 28/100\n",
      "94/94 - 0s - loss: 0.0020 - 147ms/epoch - 2ms/step\n",
      "Epoch 29/100\n",
      "94/94 - 0s - loss: 0.0021 - 184ms/epoch - 2ms/step\n",
      "Epoch 30/100\n",
      "94/94 - 0s - loss: 0.0020 - 211ms/epoch - 2ms/step\n",
      "Epoch 31/100\n",
      "94/94 - 0s - loss: 0.0020 - 147ms/epoch - 2ms/step\n",
      "Epoch 32/100\n",
      "94/94 - 0s - loss: 0.0021 - 117ms/epoch - 1ms/step\n",
      "Epoch 33/100\n",
      "94/94 - 0s - loss: 0.0021 - 157ms/epoch - 2ms/step\n",
      "Epoch 34/100\n",
      "94/94 - 0s - loss: 0.0020 - 177ms/epoch - 2ms/step\n",
      "Epoch 35/100\n",
      "94/94 - 0s - loss: 0.0021 - 114ms/epoch - 1ms/step\n",
      "Epoch 36/100\n",
      "94/94 - 0s - loss: 0.0020 - 115ms/epoch - 1ms/step\n",
      "Epoch 37/100\n",
      "94/94 - 0s - loss: 0.0020 - 138ms/epoch - 1ms/step\n",
      "Epoch 38/100\n",
      "94/94 - 0s - loss: 0.0020 - 194ms/epoch - 2ms/step\n",
      "Epoch 39/100\n",
      "94/94 - 0s - loss: 0.0020 - 215ms/epoch - 2ms/step\n",
      "Epoch 40/100\n",
      "94/94 - 0s - loss: 0.0020 - 167ms/epoch - 2ms/step\n",
      "Epoch 41/100\n",
      "94/94 - 0s - loss: 0.0020 - 191ms/epoch - 2ms/step\n",
      "Epoch 42/100\n",
      "94/94 - 0s - loss: 0.0020 - 122ms/epoch - 1ms/step\n",
      "Epoch 43/100\n",
      "94/94 - 0s - loss: 0.0020 - 145ms/epoch - 2ms/step\n",
      "Epoch 44/100\n",
      "94/94 - 0s - loss: 0.0020 - 165ms/epoch - 2ms/step\n",
      "Epoch 45/100\n",
      "94/94 - 0s - loss: 0.0021 - 153ms/epoch - 2ms/step\n",
      "Epoch 46/100\n",
      "94/94 - 0s - loss: 0.0019 - 151ms/epoch - 2ms/step\n",
      "Epoch 47/100\n",
      "94/94 - 0s - loss: 0.0020 - 144ms/epoch - 2ms/step\n",
      "Epoch 48/100\n",
      "94/94 - 0s - loss: 0.0021 - 109ms/epoch - 1ms/step\n",
      "Epoch 49/100\n",
      "94/94 - 0s - loss: 0.0020 - 143ms/epoch - 2ms/step\n",
      "Epoch 50/100\n",
      "94/94 - 0s - loss: 0.0020 - 189ms/epoch - 2ms/step\n",
      "Epoch 51/100\n",
      "94/94 - 0s - loss: 0.0020 - 149ms/epoch - 2ms/step\n",
      "Epoch 52/100\n",
      "94/94 - 0s - loss: 0.0020 - 139ms/epoch - 1ms/step\n",
      "Epoch 53/100\n",
      "94/94 - 0s - loss: 0.0020 - 137ms/epoch - 1ms/step\n",
      "Epoch 54/100\n",
      "94/94 - 0s - loss: 0.0020 - 137ms/epoch - 1ms/step\n",
      "Epoch 55/100\n",
      "94/94 - 0s - loss: 0.0020 - 116ms/epoch - 1ms/step\n",
      "Epoch 56/100\n",
      "94/94 - 0s - loss: 0.0020 - 132ms/epoch - 1ms/step\n",
      "Epoch 57/100\n",
      "94/94 - 0s - loss: 0.0020 - 122ms/epoch - 1ms/step\n",
      "Epoch 58/100\n",
      "94/94 - 0s - loss: 0.0020 - 124ms/epoch - 1ms/step\n",
      "Epoch 59/100\n",
      "94/94 - 0s - loss: 0.0020 - 118ms/epoch - 1ms/step\n",
      "Epoch 60/100\n",
      "94/94 - 0s - loss: 0.0020 - 148ms/epoch - 2ms/step\n",
      "Epoch 61/100\n",
      "94/94 - 0s - loss: 0.0020 - 127ms/epoch - 1ms/step\n",
      "Epoch 62/100\n",
      "94/94 - 0s - loss: 0.0021 - 115ms/epoch - 1ms/step\n",
      "Epoch 63/100\n",
      "94/94 - 0s - loss: 0.0020 - 119ms/epoch - 1ms/step\n",
      "Epoch 64/100\n",
      "94/94 - 0s - loss: 0.0020 - 113ms/epoch - 1ms/step\n",
      "Epoch 65/100\n",
      "94/94 - 0s - loss: 0.0020 - 129ms/epoch - 1ms/step\n",
      "Epoch 66/100\n",
      "94/94 - 0s - loss: 0.0020 - 152ms/epoch - 2ms/step\n",
      "Epoch 67/100\n",
      "94/94 - 0s - loss: 0.0021 - 151ms/epoch - 2ms/step\n",
      "Epoch 68/100\n",
      "94/94 - 0s - loss: 0.0020 - 141ms/epoch - 1ms/step\n",
      "Epoch 69/100\n",
      "94/94 - 0s - loss: 0.0020 - 133ms/epoch - 1ms/step\n",
      "Epoch 70/100\n",
      "94/94 - 0s - loss: 0.0020 - 119ms/epoch - 1ms/step\n",
      "Epoch 71/100\n",
      "94/94 - 0s - loss: 0.0020 - 117ms/epoch - 1ms/step\n",
      "Epoch 72/100\n",
      "94/94 - 0s - loss: 0.0020 - 113ms/epoch - 1ms/step\n",
      "Epoch 73/100\n",
      "94/94 - 0s - loss: 0.0020 - 116ms/epoch - 1ms/step\n",
      "Epoch 74/100\n",
      "94/94 - 0s - loss: 0.0021 - 120ms/epoch - 1ms/step\n",
      "Epoch 75/100\n",
      "94/94 - 0s - loss: 0.0020 - 137ms/epoch - 1ms/step\n",
      "Epoch 76/100\n",
      "94/94 - 0s - loss: 0.0020 - 125ms/epoch - 1ms/step\n",
      "Epoch 77/100\n",
      "94/94 - 0s - loss: 0.0019 - 132ms/epoch - 1ms/step\n",
      "Epoch 78/100\n",
      "94/94 - 0s - loss: 0.0020 - 138ms/epoch - 1ms/step\n",
      "Epoch 79/100\n",
      "94/94 - 0s - loss: 0.0020 - 136ms/epoch - 1ms/step\n",
      "Epoch 80/100\n",
      "94/94 - 0s - loss: 0.0020 - 114ms/epoch - 1ms/step\n",
      "Epoch 81/100\n",
      "94/94 - 0s - loss: 0.0019 - 121ms/epoch - 1ms/step\n",
      "Epoch 82/100\n",
      "94/94 - 0s - loss: 0.0021 - 128ms/epoch - 1ms/step\n",
      "Epoch 83/100\n",
      "94/94 - 0s - loss: 0.0020 - 111ms/epoch - 1ms/step\n",
      "Epoch 84/100\n",
      "94/94 - 0s - loss: 0.0019 - 113ms/epoch - 1ms/step\n",
      "Epoch 85/100\n",
      "94/94 - 0s - loss: 0.0020 - 110ms/epoch - 1ms/step\n",
      "Epoch 86/100\n",
      "94/94 - 0s - loss: 0.0020 - 118ms/epoch - 1ms/step\n",
      "Epoch 87/100\n",
      "94/94 - 0s - loss: 0.0021 - 184ms/epoch - 2ms/step\n",
      "Epoch 88/100\n",
      "94/94 - 0s - loss: 0.0020 - 115ms/epoch - 1ms/step\n",
      "Epoch 89/100\n",
      "94/94 - 0s - loss: 0.0020 - 112ms/epoch - 1ms/step\n",
      "Epoch 90/100\n",
      "94/94 - 0s - loss: 0.0020 - 111ms/epoch - 1ms/step\n",
      "Epoch 91/100\n",
      "94/94 - 0s - loss: 0.0020 - 112ms/epoch - 1ms/step\n",
      "Epoch 92/100\n",
      "94/94 - 0s - loss: 0.0020 - 117ms/epoch - 1ms/step\n",
      "Epoch 93/100\n",
      "94/94 - 0s - loss: 0.0020 - 147ms/epoch - 2ms/step\n",
      "Epoch 94/100\n",
      "94/94 - 0s - loss: 0.0020 - 116ms/epoch - 1ms/step\n",
      "Epoch 95/100\n",
      "94/94 - 0s - loss: 0.0021 - 128ms/epoch - 1ms/step\n",
      "Epoch 96/100\n",
      "94/94 - 0s - loss: 0.0020 - 108ms/epoch - 1ms/step\n",
      "Epoch 97/100\n",
      "94/94 - 0s - loss: 0.0020 - 113ms/epoch - 1ms/step\n",
      "Epoch 98/100\n",
      "94/94 - 0s - loss: 0.0020 - 130ms/epoch - 1ms/step\n",
      "Epoch 99/100\n",
      "94/94 - 0s - loss: 0.0020 - 117ms/epoch - 1ms/step\n",
      "Epoch 100/100\n",
      "94/94 - 0s - loss: 0.0020 - 125ms/epoch - 1ms/step\n"
     ]
    },
    {
     "data": {
      "text/plain": [
       "<keras.callbacks.History at 0x1f697bf1130>"
      ]
     },
     "execution_count": 163,
     "metadata": {},
     "output_type": "execute_result"
    }
   ],
   "source": [
    "\n",
    "# create and fit the LSTM network\n",
    "model = Sequential()\n",
    "model.add(LSTM(4, input_shape=(1, look_back)))\n",
    "model.add(Dense(1))\n",
    "model.compile(loss='mean_squared_error', optimizer='adam')\n",
    "model.fit(trainX, trainY, epochs=100, batch_size=1, verbose=2)"
   ]
  },
  {
   "cell_type": "markdown",
   "metadata": {},
   "source": [
    "Once the model is fit, we can estimate the performance of the model on the train and test datasets. This will give us a point of comparison for new models.\n",
    "\n",
    "Note that we invert the predictions before calculating error scores to ensure that performance is reported in the same units as the original data (thousands of passengers per month)."
   ]
  },
  {
   "cell_type": "code",
   "execution_count": 164,
   "metadata": {},
   "outputs": [
    {
     "name": "stdout",
     "output_type": "stream",
     "text": [
      "Train Score: 22.68 RMSE\n",
      "Test Score: 49.34 RMSE\n",
      "140\n",
      "46\n",
      "94\n"
     ]
    }
   ],
   "source": [
    "\n",
    "# make predictions\n",
    "trainPredict = model.predict(trainX)\n",
    "testPredict = model.predict(testX)\n",
    "# invert predictions\n",
    "trainPredict = scaler.inverse_transform(trainPredict)\n",
    "trainY = scaler.inverse_transform([trainY])\n",
    "testPredict = scaler.inverse_transform(testPredict)\n",
    "testY = scaler.inverse_transform([testY])\n",
    "# calculate root mean squared error\n",
    "trainScore = np.sqrt(mean_squared_error(trainY[0], trainPredict[:,0]))\n",
    "print('Train Score: %.2f RMSE' % (trainScore))\n",
    "testScore = np.sqrt(mean_squared_error(testY[0], testPredict[:,0]))\n",
    "print('Test Score: %.2f RMSE' % (testScore))\n",
    "\n",
    "\n",
    "allVals = np.concatenate((trainPredict, testPredict), axis=0)\n",
    "print(len(allVals))\n",
    "print(len(testPredict))\n",
    "print(len(trainPredict))"
   ]
  },
  {
   "cell_type": "markdown",
   "metadata": {},
   "source": [
    "Finally, we can generate predictions using the model for both the train and test dataset to get a visual indication of the skill of the model.\n",
    "\n",
    "Because of how the dataset was prepared, we must shift the predictions so that they align on the x-axis with the original dataset. Once prepared, the data is plotted, showing the original dataset in blue, the predictions for the training dataset in orange, and the predictions on the unseen test dataset in green."
   ]
  },
  {
   "cell_type": "code",
   "execution_count": 173,
   "metadata": {},
   "outputs": [
    {
     "data": {
      "image/png": "[encoded data removed]",
      "text/plain": [
       "<Figure size 432x288 with 1 Axes>"
      ]
     },
     "metadata": {
      "needs_background": "light"
     },
     "output_type": "display_data"
    }
   ],
   "source": [
    "\n",
    "# shift train predictions for plotting\n",
    "trainPredictPlot = np.empty_like(dataset)\n",
    "trainPredictPlot[:, :] = np.nan\n",
    "trainPredictPlot[look_back:len(trainPredict)+look_back, :] = trainPredict\n",
    "# shift test predictions for plotting\n",
    "testPredictPlot = np.empty_like(dataset)\n",
    "testPredictPlot[:, :] = np.nan\n",
    "testPredictPlot[len(trainPredict)+(look_back*2)+1:len(dataset)-1, :] = testPredict\n",
    "# plot baseline and predictions\n",
    "plt.plot(scaler.inverse_transform(dataset), label=\"base\")\n",
    "plt.plot(trainPredictPlot, label=\"trainpredict\")\n",
    "plt.plot(testPredictPlot, label=\"testPredict\")\n",
    "plt.plot(allVals, label=\"allVals\")\n",
    "plt.legend()\n",
    "plt.show()"
   ]
  }
 ],
 "metadata": {
  "kernelspec": {
   "display_name": "Python 3.9.5 64-bit",
   "language": "python",
   "name": "python3"
  },
  "language_info": {
   "codemirror_mode": {
    "name": "ipython",
    "version": 3
   },
   "file_extension": ".py",
   "mimetype": "text/x-python",
   "name": "python",
   "nbconvert_exporter": "python",
   "pygments_lexer": "ipython3",
   "version": "3.9.5"
  },
  "orig_nbformat": 4,
  "vscode": {
   "interpreter": {
    "hash": "c75ba1d2772ea8e26f89048c9ec7118639fcd82f2d8c55a1f21957545149ecc4"
   }
  }
 },
 "nbformat": 4,
 "nbformat_minor": 2
}
